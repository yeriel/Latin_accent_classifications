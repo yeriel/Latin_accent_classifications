{
  "cells": [
    {
      "cell_type": "code",
      "execution_count": 1,
      "metadata": {
        "id": "YK-A8NnOshs6"
      },
      "outputs": [],
      "source": [
        "import pickle\n",
        "import numpy as np\n",
        "import pandas as pd\n",
        "\n",
        "import tensorflow as tf\n",
        "from tensorflow import keras"
      ]
    },
    {
      "cell_type": "code",
      "execution_count": 2,
      "metadata": {
        "id": "btTgRp8bwKgX"
      },
      "outputs": [],
      "source": [
        "from sklearn.model_selection import KFold\n",
        "from sklearn.metrics import f1_score\n",
        "\n",
        "def load_data(data_path, mfcc_path):    \n",
        "    df = pd.read_csv(data_path)    \n",
        "    with open(mfcc_path, 'rb') as fp:\n",
        "        mfcc = pickle.load(fp)\n",
        "\n",
        "    return df,mfcc\n",
        "\n",
        "def get_score(model, X_train, X_test, y_train, y_test,target_sex=True):\n",
        "    optimiser = keras.optimizers.Adam(learning_rate=0.0001)\n",
        "    model.compile(optimizer=optimiser,\n",
        "                  loss='sparse_categorical_crossentropy',\n",
        "                  metrics=['accuracy'])\n",
        "\n",
        "    if target_sex:\n",
        "        model.compile(optimizer=optimiser,\n",
        "                      loss='binary_crossentropy',\n",
        "                      metrics=['accuracy'])\n",
        "        model.fit(X_train, y_train, validation_data=(X_test, y_test), batch_size=32, epochs=30, verbose=0)\n",
        "        y_predict = model.predict(X_test)\n",
        "        mf1 = f1_score(y_test, y_predict,average='macro')\n",
        "        return mf1 \n",
        "\n",
        "    model.fit(X_train, y_train, validation_data=(X_test, y_test), batch_size=32, epochs=30, verbose=0)\n",
        "    y_predict = model.predict(X_test)\n",
        "    y_predict = [np.argmax(x) for x in y_predict]\n",
        "    mf1 = f1_score(y_test, y_predict,average='macro')\n",
        "    return mf1 \n",
        "\n",
        "def cross_validation(df,mfcc,models,target_sex=True):\n",
        "    kf = KFold(n_splits = 10, shuffle= True)\n",
        "    X = df.Id\n",
        "    Y = df.Country - 2 \n",
        "\n",
        "    if target_sex: \n",
        "      Y = df.Sex\n",
        "    \n",
        "    for m, values in models.items():\n",
        "        print(f'Cross Validation for model {m}\\n')\n",
        "        for train_index, test_index in kf.split(X):\n",
        "          \n",
        "          X_train_Id, X_test_Id = X.iloc[train_index,], X.iloc[test_index,]\n",
        "          y_train, y_test = Y[train_index], Y[test_index]\n",
        "          \n",
        "          x_train = np.array([mfcc[i] for i in X_train_Id])\n",
        "          x_test = np.array([mfcc[i] for i in X_test_Id])\n",
        "          \n",
        "          values.append(get_score(m, x_train, x_test, y_train, y_test, target_sex))\n",
        "\n",
        "        print(f'Done model {m}\\n')\n",
        "    print(f'Done')\n",
        "\n"
      ]
    },
    {
      "cell_type": "code",
      "execution_count": 3,
      "metadata": {
        "id": "CY_JsbRzFh2s"
      },
      "outputs": [],
      "source": [
        "def fnn_model_without_dropout(input_shape,output=1,function='relu'):\n",
        "    model = keras.Sequential() \n",
        "    model.add(keras.layers.Flatten(input_shape=input_shape))\n",
        "    model.add(keras.layers.Dense(512, activation=function))\n",
        "    model.add(keras.layers.Dense(256, activation=function))\n",
        "    model.add(keras.layers.Dense(64, activation=function))\n",
        "    model.add(keras.layers.Dense(output, activation='softmax'))\n",
        "    return model"
      ]
    },
    {
      "cell_type": "code",
      "execution_count": 4,
      "metadata": {
        "id": "r9jtGpYqeFkL"
      },
      "outputs": [],
      "source": [
        "def fnn_model_with_dropout(input_shape,output=1,function='relu',dropout=0.2):\n",
        "    model = keras.Sequential() \n",
        "    model.add(keras.layers.Flatten(input_shape=input_shape))\n",
        "    model.add(keras.layers.Dense(512, activation=function))\n",
        "    model.add(keras.layers.Dense(256, activation=function))\n",
        "    model.add(keras.layers.Dense(64, activation=function))\n",
        "    model.add(keras.layers.Dropout(dropout))\n",
        "    model.add(keras.layers.Dense(output, activation='softmax'))\n",
        "    return model"
      ]
    },
    {
      "cell_type": "code",
      "execution_count": 5,
      "metadata": {
        "id": "oeg9JR_ztPuJ"
      },
      "outputs": [],
      "source": [
        "def cnn_model(input_shape,output=1):\n",
        "    model = keras.Sequential()\n",
        "\n",
        "    # 1st conv layer\n",
        "    model.add(keras.layers.Conv2D(32, (3, 3), activation='relu', input_shape=input_shape))\n",
        "    model.add(keras.layers.MaxPooling2D((3, 3), strides=(2, 2), padding='same'))\n",
        "    model.add(keras.layers.BatchNormalization())\n",
        "\n",
        "    # 2nd conv layer\n",
        "    model.add(keras.layers.Conv2D(32, (3, 3), activation='relu'))\n",
        "    model.add(keras.layers.MaxPooling2D((3, 3), strides=(2, 2), padding='same'))\n",
        "    model.add(keras.layers.BatchNormalization())\n",
        "\n",
        "    # 3rd conv layer\n",
        "    model.add(keras.layers.Conv2D(32, (2, 2), activation='relu'))\n",
        "    model.add(keras.layers.MaxPooling2D((2, 2), strides=(2, 2), padding='same'))\n",
        "    model.add(keras.layers.BatchNormalization())\n",
        "\n",
        "    # flatten output and feed it into dense layer\n",
        "    model.add(keras.layers.Flatten())\n",
        "    model.add(keras.layers.Dense(64, activation='relu'))\n",
        "    model.add(keras.layers.Dropout(0.3))\n",
        "\n",
        "    # output layer\n",
        "    model.add(keras.layers.Dense(output, activation='softmax'))\n",
        "\n",
        "    return model"
      ]
    },
    {
      "cell_type": "code",
      "execution_count": 6,
      "metadata": {
        "id": "1Bh9lM3F25qW"
      },
      "outputs": [],
      "source": [
        "models_sex = {\n",
        "    cnn_model((61,13,1),1):['cnn'],\n",
        "    fnn_model_with_dropout((61,13,1),1):['fnn_with_drop'],\n",
        "    fnn_model_without_dropout((61,13,1),1):['fnn_without_drop']\n",
        "}\n",
        "\n",
        "models_country = {\n",
        "    cnn_model((61,13,1),5):['cnn'],\n",
        "    fnn_model_with_dropout((61,13,1),5):['fnn_with_drop'],\n",
        "    fnn_model_without_dropout((61,13,1),5):['fnn_without_drop']\n",
        "}\n",
        "\n",
        "path_train_csv = 'dataset/Train.csv'\n",
        "path_train_mfcc = 'dataset/mfcc_train.json'\n",
        "\n",
        "df,mfcc = load_data(path_train_csv,path_train_mfcc) "
      ]
    },
    {
      "cell_type": "code",
      "execution_count": 7,
      "metadata": {
        "colab": {
          "base_uri": "https://localhost:8080/"
        },
        "id": "49yV7HU3kUzo",
        "outputId": "0705e20a-e02e-4a1e-ac0f-d831e8522efe"
      },
      "outputs": [
        {
          "name": "stdout",
          "output_type": "stream",
          "text": [
            "Cross Validation for model <keras.engine.sequential.Sequential object at 0x7fd9789c6350>\n",
            "\n",
            "Done model <keras.engine.sequential.Sequential object at 0x7fd9789c6350>\n",
            "\n",
            "Cross Validation for model <keras.engine.sequential.Sequential object at 0x7fd8fc1271d0>\n",
            "\n",
            "Done model <keras.engine.sequential.Sequential object at 0x7fd8fc1271d0>\n",
            "\n",
            "Cross Validation for model <keras.engine.sequential.Sequential object at 0x7fd8fc1350d0>\n",
            "\n",
            "Done model <keras.engine.sequential.Sequential object at 0x7fd8fc1350d0>\n",
            "\n",
            "Done\n"
          ]
        }
      ],
      "source": [
        "cross_validation(df,mfcc,models_sex,target_sex=True)"
      ]
    },
    {
      "cell_type": "code",
      "execution_count": 8,
      "metadata": {
        "colab": {
          "base_uri": "https://localhost:8080/"
        },
        "id": "8CHpfRVtkWb1",
        "outputId": "b8c517ea-1bfe-47c0-b227-ea36faf71fc6"
      },
      "outputs": [
        {
          "name": "stdout",
          "output_type": "stream",
          "text": [
            "Cross Validation for model <keras.engine.sequential.Sequential object at 0x7fd9789c6790>\n",
            "\n",
            "Done model <keras.engine.sequential.Sequential object at 0x7fd9789c6790>\n",
            "\n",
            "Cross Validation for model <keras.engine.sequential.Sequential object at 0x7fd8fc14ce10>\n",
            "\n",
            "Done model <keras.engine.sequential.Sequential object at 0x7fd8fc14ce10>\n",
            "\n",
            "Cross Validation for model <keras.engine.sequential.Sequential object at 0x7fd8fc0a3950>\n",
            "\n",
            "Done model <keras.engine.sequential.Sequential object at 0x7fd8fc0a3950>\n",
            "\n",
            "Done\n"
          ]
        }
      ],
      "source": [
        "cross_validation(df,mfcc,models_country,target_sex=False)"
      ]
    },
    {
      "cell_type": "code",
      "execution_count": 12,
      "metadata": {
        "colab": {
          "base_uri": "https://localhost:8080/"
        },
        "id": "77Romf3hrD8d",
        "outputId": "a6b1e3b8-9d11-471b-b011-41816ce5701f"
      },
      "outputs": [
        {
          "name": "stdout",
          "output_type": "stream",
          "text": [
            " model cnn macro f1-score mean is 0.33466902391003506\n",
            " model fnn_with_drop macro f1-score mean is 0.3346020091301354\n",
            " model fnn_without_drop macro f1-score mean is 0.33461165285919325\n"
          ]
        }
      ],
      "source": [
        "for m,values in models_sex.items():\n",
        "    print(f' model {values[0]} macro f1-score mean is {np.mean(values[1:])}')"
      ]
    },
    {
      "cell_type": "code",
      "execution_count": 13,
      "metadata": {
        "colab": {
          "base_uri": "https://localhost:8080/"
        },
        "id": "ZYA3tbnvsA3I",
        "outputId": "3e38caa8-5b6e-44c4-c480-08dbf18cdd56"
      },
      "outputs": [
        {
          "name": "stdout",
          "output_type": "stream",
          "text": [
            " model cnn macro f1-score mean is 0.7912803677990046\n",
            " model fnn_with_drop macro f1-score mean is 0.3321740560188752\n",
            " model fnn_without_drop macro f1-score mean is 0.7886402686473031\n"
          ]
        }
      ],
      "source": [
        "for m,values in models_country.items():\n",
        "    print(f' model {values[0]} macro f1-score mean is {np.mean(values[1:])}')"
      ]
    }
  ],
  "metadata": {
    "accelerator": "GPU",
    "colab": {
      "collapsed_sections": [],
      "provenance": []
    },
    "kernelspec": {
      "display_name": "Python 3.7.9 ('pydata')",
      "language": "python",
      "name": "python3"
    },
    "language_info": {
      "name": "python",
      "version": "3.7.9"
    },
    "vscode": {
      "interpreter": {
        "hash": "d1d8ad16ada95a13291926f2c6b8bbafec510fa00bf7f37a9bb0854a9eb907ff"
      }
    }
  },
  "nbformat": 4,
  "nbformat_minor": 0
}
