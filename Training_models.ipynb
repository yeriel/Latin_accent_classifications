{
  "nbformat": 4,
  "nbformat_minor": 0,
  "metadata": {
    "colab": {
      "provenance": [],
      "collapsed_sections": []
    },
    "kernelspec": {
      "name": "python3",
      "display_name": "Python 3"
    },
    "language_info": {
      "name": "python"
    }
  },
  "cells": [
    {
      "cell_type": "code",
      "execution_count": 1,
      "metadata": {
        "id": "D4_eu6FqthzC"
      },
      "outputs": [],
      "source": [
        "import pickle\n",
        "import numpy as np\n",
        "import pandas as pd\n",
        "\n",
        "import tensorflow as tf\n",
        "from tensorflow import keras\n",
        "from sklearn.model_selection import train_test_split"
      ]
    },
    {
      "cell_type": "code",
      "source": [
        "def get_X_Y(df,target_sex):\n",
        "    Y = df.Country - 2 \n",
        "    X = np.array([mfcc[i] for i in df.Id])\n",
        "    \n",
        "    if target_sex: \n",
        "      Y = df.Sex\n",
        "      X_train, X_val, y_train, y_val = train_test_split(X,Y,test_size=0.1, random_state=45)\n",
        "      return X_train, X_val, y_train, y_val\n",
        "    \n",
        "    X_train, X_val, y_train, y_val = train_test_split(X,Y,test_size=0.1, random_state=45)\n",
        "    return X_train, X_val, y_train, y_val\n",
        "\n",
        "def load_data(data_path, mfcc_path):    \n",
        "    df = pd.read_csv(data_path)    \n",
        "    with open(mfcc_path, 'rb') as fp:\n",
        "        mfcc = pickle.load(fp)\n",
        "    return df,mfcc\n",
        "\n",
        "\n",
        "def train_model(model, X_train, X_test, y_train, y_test,target_sex=True):\n",
        "    optimiser = keras.optimizers.Adam(learning_rate=0.0001)\n",
        "    model.compile(optimizer=optimiser,\n",
        "                  loss='sparse_categorical_crossentropy',\n",
        "                  metrics=['accuracy'])\n",
        "\n",
        "    if target_sex:\n",
        "        model.compile(optimizer=optimiser,\n",
        "                      loss='binary_crossentropy',\n",
        "                      metrics=['accuracy'])\n",
        "        model.fit(X_train, y_train, validation_data=(X_test, y_test), batch_size=32, epochs=30, verbose=0)\n",
        "        \n",
        "\n",
        "    model.fit(X_train, y_train, validation_data=(X_test, y_test), batch_size=32, epochs=30, verbose=0)"
      ],
      "metadata": {
        "id": "XzqJUBevuBiQ"
      },
      "execution_count": 2,
      "outputs": []
    },
    {
      "cell_type": "code",
      "source": [
        "def fnn_model_without_dropout(input_shape,output=1,function='relu'):\n",
        "    model = keras.Sequential() \n",
        "    model.add(keras.layers.Flatten(input_shape=input_shape))\n",
        "    model.add(keras.layers.Dense(512, activation=function))\n",
        "    model.add(keras.layers.Dense(256, activation=function))\n",
        "    model.add(keras.layers.Dense(64, activation=function))\n",
        "    model.add(keras.layers.Dense(output, activation='softmax'))\n",
        "    return model"
      ],
      "metadata": {
        "id": "bj_NdUweub4J"
      },
      "execution_count": 3,
      "outputs": []
    },
    {
      "cell_type": "code",
      "source": [
        "def cnn_model(input_shape,output=1):\n",
        "    model = keras.Sequential()\n",
        "\n",
        "    # 1st conv layer\n",
        "    model.add(keras.layers.Conv2D(32, (3, 3), activation='relu', input_shape=input_shape))\n",
        "    model.add(keras.layers.MaxPooling2D((3, 3), strides=(2, 2), padding='same'))\n",
        "    model.add(keras.layers.BatchNormalization())\n",
        "\n",
        "    # 2nd conv layer\n",
        "    model.add(keras.layers.Conv2D(32, (3, 3), activation='relu'))\n",
        "    model.add(keras.layers.MaxPooling2D((3, 3), strides=(2, 2), padding='same'))\n",
        "    model.add(keras.layers.BatchNormalization())\n",
        "\n",
        "    # 3rd conv layer\n",
        "    model.add(keras.layers.Conv2D(32, (2, 2), activation='relu'))\n",
        "    model.add(keras.layers.MaxPooling2D((2, 2), strides=(2, 2), padding='same'))\n",
        "    model.add(keras.layers.BatchNormalization())\n",
        "\n",
        "    # flatten output and feed it into dense layer\n",
        "    model.add(keras.layers.Flatten())\n",
        "    model.add(keras.layers.Dense(64, activation='relu'))\n",
        "    model.add(keras.layers.Dropout(0.3))\n",
        "\n",
        "    # output layer\n",
        "    model.add(keras.layers.Dense(output, activation='softmax'))\n",
        "\n",
        "    return model"
      ],
      "metadata": {
        "id": "rR4F5iO3t0RA"
      },
      "execution_count": 4,
      "outputs": []
    },
    {
      "cell_type": "code",
      "source": [
        "df, mfcc = load_data('/content/drive/MyDrive/tarea/dataset/dataset_aumentado/Train.csv','/content/drive/MyDrive/tarea/dataset/dataset_aumentado/mfcc.json') "
      ],
      "metadata": {
        "id": "sjWekuMXyiA4"
      },
      "execution_count": null,
      "outputs": []
    },
    {
      "cell_type": "markdown",
      "source": [
        "## Train for sex target"
      ],
      "metadata": {
        "id": "xHd0bJndyYhQ"
      }
    },
    {
      "cell_type": "code",
      "source": [
        "cnn = cnn_model((61,13,1),5)\n",
        "X_train, X_val, y_train, y_val = get_X_Y(df,target_sex=True)\n",
        "train_model(cnn, X_train, X_val, y_train, y_val,target_sex=True)\n",
        "#y_predict = cnn.predict()"
      ],
      "metadata": {
        "colab": {
          "base_uri": "https://localhost:8080/"
        },
        "id": "grvrPRkXvsn7",
        "outputId": "f4f0189f-7ef5-4eea-a2b3-6692a7860422"
      },
      "execution_count": 6,
      "outputs": [
        {
          "output_type": "execute_result",
          "data": {
            "text/plain": [
              "2043"
            ]
          },
          "metadata": {},
          "execution_count": 6
        }
      ]
    },
    {
      "cell_type": "markdown",
      "source": [
        "## Train for country target"
      ],
      "metadata": {
        "id": "6-ptVmJWydZX"
      }
    }
  ]
}