{
  "nbformat": 4,
  "nbformat_minor": 0,
  "metadata": {
    "colab": {
      "provenance": [],
      "collapsed_sections": []
    },
    "kernelspec": {
      "name": "python3",
      "display_name": "Python 3"
    },
    "language_info": {
      "name": "python"
    }
  },
  "cells": [
    {
      "cell_type": "code",
      "execution_count": 1,
      "metadata": {
        "id": "D4_eu6FqthzC"
      },
      "outputs": [],
      "source": [
        "import pickle\n",
        "import numpy as np\n",
        "import pandas as pd\n",
        "\n",
        "import tensorflow as tf\n",
        "from tensorflow import keras\n",
        "from sklearn.model_selection import train_test_split"
      ]
    },
    {
      "cell_type": "code",
      "source": [
        "def get_X_Y(df,target_sex,isTrain=True):\n",
        "    if isTrain:\n",
        "        Y = df.Country - 2 \n",
        "        X = np.array([mfcc[i] for i in df.Id])\n",
        "    \n",
        "        if target_sex: \n",
        "            Y = df.Sex\n",
        "            X_train, X_val, y_train, y_val = train_test_split(X,Y,test_size=0.1, random_state=45)\n",
        "            return X_train, X_val, y_train, y_val\n",
        "    \n",
        "        X_train, X_val, y_train, y_val = train_test_split(X,Y,test_size=0.1, random_state=45)\n",
        "        return X_train, X_val, y_train, y_val\n",
        "\n",
        "    return np.array([mfcc[i] for i in df.Id])\n",
        "    \n",
        "def load_data(data_path, mfcc_path):    \n",
        "    df = pd.read_csv(data_path)    \n",
        "    with open(mfcc_path, 'rb') as fp:\n",
        "        mfcc = pickle.load(fp)\n",
        "    return df,mfcc\n",
        "\n",
        "\n",
        "def train_model(model, X_train, X_test, y_train, y_test,target_sex=True):\n",
        "    optimiser = keras.optimizers.Adam(learning_rate=0.0001)\n",
        "    model.compile(optimizer=optimiser,\n",
        "                  loss='sparse_categorical_crossentropy',\n",
        "                  metrics=['accuracy'])\n",
        "\n",
        "    if target_sex:\n",
        "        model.compile(optimizer=optimiser,\n",
        "                      loss='binary_crossentropy',\n",
        "                      metrics=['accuracy'])\n",
        "        model.fit(X_train, y_train, validation_data=(X_test, y_test), batch_size=32, epochs=30, verbose=0)\n",
        "        \n",
        "\n",
        "    model.fit(X_train, y_train, validation_data=(X_test, y_test), batch_size=32, epochs=30, verbose=0)"
      ],
      "metadata": {
        "id": "XzqJUBevuBiQ"
      },
      "execution_count": 2,
      "outputs": []
    },
    {
      "cell_type": "code",
      "source": [
        "def fnn_model_with_dropout(input_shape,output=1,function='relu',dropout=0.2):\n",
        "    model = keras.Sequential() \n",
        "    model.add(keras.layers.Flatten(input_shape=input_shape))\n",
        "    model.add(keras.layers.Dense(256, activation=function))\n",
        "    model.add(keras.layers.Dense(64, activation=function))\n",
        "    model.add(keras.layers.Dropout(dropout))\n",
        "    model.add(keras.layers.Dense(output, activation='softmax'))\n",
        "    return model"
      ],
      "metadata": {
        "id": "bj_NdUweub4J"
      },
      "execution_count": 3,
      "outputs": []
    },
    {
      "cell_type": "code",
      "source": [
        "def cnn_model(input_shape,output=1):\n",
        "    model = keras.Sequential()\n",
        "\n",
        "    # 1st conv layer\n",
        "    model.add(keras.layers.Conv2D(32, (3, 3), activation='relu', input_shape=input_shape))\n",
        "    model.add(keras.layers.MaxPooling2D((3, 3), strides=(2, 2), padding='same'))\n",
        "    model.add(keras.layers.BatchNormalization())\n",
        "\n",
        "    # 2nd conv layer\n",
        "    model.add(keras.layers.Conv2D(32, (3, 3), activation='relu'))\n",
        "    model.add(keras.layers.MaxPooling2D((3, 3), strides=(2, 2), padding='same'))\n",
        "    model.add(keras.layers.BatchNormalization())\n",
        "\n",
        "    # 3rd conv layer\n",
        "    model.add(keras.layers.Conv2D(32, (2, 2), activation='relu'))\n",
        "    model.add(keras.layers.MaxPooling2D((2, 2), strides=(2, 2), padding='same'))\n",
        "    model.add(keras.layers.BatchNormalization())\n",
        "\n",
        "    # flatten output and feed it into dense layer\n",
        "    model.add(keras.layers.Flatten())\n",
        "    model.add(keras.layers.Dense(64, activation='relu'))\n",
        "    model.add(keras.layers.Dropout(0.3))\n",
        "\n",
        "    # output layer\n",
        "    model.add(keras.layers.Dense(output, activation='softmax'))\n",
        "\n",
        "    return model"
      ],
      "metadata": {
        "id": "rR4F5iO3t0RA"
      },
      "execution_count": 4,
      "outputs": []
    },
    {
      "cell_type": "code",
      "source": [
        "path_train_csv = '/content/drive/MyDrive/tarea/dataset/dataset_aumentado/Train.csv'\n",
        "path_train_mfcc = '/content/drive/MyDrive/tarea/dataset/dataset_aumentado/mfcc_train.json'\n",
        "path_test_csv = '/content/drive/MyDrive/tarea/dataset/dataset_aumentado/Test.csv'\n",
        "path_test_mfcc = '/content/drive/MyDrive/tarea/dataset/dataset_aumentado/mfcc_test.json'"
      ],
      "metadata": {
        "id": "sjWekuMXyiA4"
      },
      "execution_count": 5,
      "outputs": []
    },
    {
      "cell_type": "markdown",
      "source": [
        "## Train for sex target"
      ],
      "metadata": {
        "id": "xHd0bJndyYhQ"
      }
    },
    {
      "cell_type": "code",
      "source": [
        "## Training model\n",
        "df,mfcc = load_data(path_train_csv,path_train_mfcc) \n",
        "cnn = cnn_model((61,13,1),1)\n",
        "X_train, X_val, y_train, y_val = get_X_Y(df,target_sex=True,isTrain=True)\n",
        "train_model(cnn, X_train, X_val, y_train, y_val,target_sex=True)\n",
        "\n",
        "## Prediction model\n",
        "df,mfcc = load_data(path_test_csv,path_test_mfcc)\n",
        "X_test = get_X_Y(df,target_sex=True,isTrain=False)\n",
        "y_predict_sex = cnn.predict(X_test)\n"
      ],
      "metadata": {
        "id": "grvrPRkXvsn7"
      },
      "execution_count": 6,
      "outputs": []
    },
    {
      "cell_type": "markdown",
      "source": [
        "## Train for country target"
      ],
      "metadata": {
        "id": "6-ptVmJWydZX"
      }
    },
    {
      "cell_type": "code",
      "source": [
        "## Training model\n",
        "df,mfcc = load_data(path_train_csv,path_train_mfcc) \n",
        "cnn = cnn_model((61,13,1),5)\n",
        "X_train, X_val, y_train, y_val = get_X_Y(df,target_sex=False,isTrain=True)\n",
        "train_model(cnn, X_train, X_val, y_train, y_val,target_sex=False)\n",
        "\n",
        "## Prediction model\n",
        "df,mfcc = load_data(path_test_csv,path_test_mfcc)\n",
        "X_test = get_X_Y(df,target_sex=False,isTrain=False)\n",
        "y_predict_country = cnn.predict(X_test)\n",
        "y_predict_country = [np.argmax(x)+2 for x in y_predict_country]"
      ],
      "metadata": {
        "id": "0wyQk47jws8W"
      },
      "execution_count": 7,
      "outputs": []
    },
    {
      "cell_type": "markdown",
      "source": [
        "## Dataframe for submit"
      ],
      "metadata": {
        "id": "iuYaV3LBwuJv"
      }
    },
    {
      "cell_type": "code",
      "source": [
        "expected = [f'{sex[0]} {country}' for sex,country in zip(y_predict_sex.astype(int),y_predict_country)]\n",
        "df_submit = pd.DataFrame(df.Id,columns=['Id'])\n",
        "df_submit = df_submit.assign(Expected=expected)\n",
        "df_submit"
      ],
      "metadata": {
        "colab": {
          "base_uri": "https://localhost:8080/",
          "height": 424
        },
        "id": "G78lrC94uexy",
        "outputId": "6c4b9a66-e6e8-4e8e-968f-d38bb7695994"
      },
      "execution_count": 8,
      "outputs": [
        {
          "output_type": "execute_result",
          "data": {
            "text/plain": [
              "                  Id Expected\n",
              "0    00005132946.wav      1 2\n",
              "1    00010648027.wav      1 3\n",
              "2    00012996552.wav      1 2\n",
              "3    00017540976.wav      1 4\n",
              "4    00020418681.wav      1 3\n",
              "..               ...      ...\n",
              "595  02125896593.wav      1 2\n",
              "596  02127267817.wav      1 5\n",
              "597  02132921902.wav      1 3\n",
              "598  02143867783.wav      1 2\n",
              "599  02147314700.wav      1 2\n",
              "\n",
              "[600 rows x 2 columns]"
            ],
            "text/html": [
              "\n",
              "  <div id=\"df-d61cf782-16ce-44fa-9b36-63a7643abf24\">\n",
              "    <div class=\"colab-df-container\">\n",
              "      <div>\n",
              "<style scoped>\n",
              "    .dataframe tbody tr th:only-of-type {\n",
              "        vertical-align: middle;\n",
              "    }\n",
              "\n",
              "    .dataframe tbody tr th {\n",
              "        vertical-align: top;\n",
              "    }\n",
              "\n",
              "    .dataframe thead th {\n",
              "        text-align: right;\n",
              "    }\n",
              "</style>\n",
              "<table border=\"1\" class=\"dataframe\">\n",
              "  <thead>\n",
              "    <tr style=\"text-align: right;\">\n",
              "      <th></th>\n",
              "      <th>Id</th>\n",
              "      <th>Expected</th>\n",
              "    </tr>\n",
              "  </thead>\n",
              "  <tbody>\n",
              "    <tr>\n",
              "      <th>0</th>\n",
              "      <td>00005132946.wav</td>\n",
              "      <td>1 2</td>\n",
              "    </tr>\n",
              "    <tr>\n",
              "      <th>1</th>\n",
              "      <td>00010648027.wav</td>\n",
              "      <td>1 3</td>\n",
              "    </tr>\n",
              "    <tr>\n",
              "      <th>2</th>\n",
              "      <td>00012996552.wav</td>\n",
              "      <td>1 2</td>\n",
              "    </tr>\n",
              "    <tr>\n",
              "      <th>3</th>\n",
              "      <td>00017540976.wav</td>\n",
              "      <td>1 4</td>\n",
              "    </tr>\n",
              "    <tr>\n",
              "      <th>4</th>\n",
              "      <td>00020418681.wav</td>\n",
              "      <td>1 3</td>\n",
              "    </tr>\n",
              "    <tr>\n",
              "      <th>...</th>\n",
              "      <td>...</td>\n",
              "      <td>...</td>\n",
              "    </tr>\n",
              "    <tr>\n",
              "      <th>595</th>\n",
              "      <td>02125896593.wav</td>\n",
              "      <td>1 2</td>\n",
              "    </tr>\n",
              "    <tr>\n",
              "      <th>596</th>\n",
              "      <td>02127267817.wav</td>\n",
              "      <td>1 5</td>\n",
              "    </tr>\n",
              "    <tr>\n",
              "      <th>597</th>\n",
              "      <td>02132921902.wav</td>\n",
              "      <td>1 3</td>\n",
              "    </tr>\n",
              "    <tr>\n",
              "      <th>598</th>\n",
              "      <td>02143867783.wav</td>\n",
              "      <td>1 2</td>\n",
              "    </tr>\n",
              "    <tr>\n",
              "      <th>599</th>\n",
              "      <td>02147314700.wav</td>\n",
              "      <td>1 2</td>\n",
              "    </tr>\n",
              "  </tbody>\n",
              "</table>\n",
              "<p>600 rows × 2 columns</p>\n",
              "</div>\n",
              "      <button class=\"colab-df-convert\" onclick=\"convertToInteractive('df-d61cf782-16ce-44fa-9b36-63a7643abf24')\"\n",
              "              title=\"Convert this dataframe to an interactive table.\"\n",
              "              style=\"display:none;\">\n",
              "        \n",
              "  <svg xmlns=\"http://www.w3.org/2000/svg\" height=\"24px\"viewBox=\"0 0 24 24\"\n",
              "       width=\"24px\">\n",
              "    <path d=\"M0 0h24v24H0V0z\" fill=\"none\"/>\n",
              "    <path d=\"M18.56 5.44l.94 2.06.94-2.06 2.06-.94-2.06-.94-.94-2.06-.94 2.06-2.06.94zm-11 1L8.5 8.5l.94-2.06 2.06-.94-2.06-.94L8.5 2.5l-.94 2.06-2.06.94zm10 10l.94 2.06.94-2.06 2.06-.94-2.06-.94-.94-2.06-.94 2.06-2.06.94z\"/><path d=\"M17.41 7.96l-1.37-1.37c-.4-.4-.92-.59-1.43-.59-.52 0-1.04.2-1.43.59L10.3 9.45l-7.72 7.72c-.78.78-.78 2.05 0 2.83L4 21.41c.39.39.9.59 1.41.59.51 0 1.02-.2 1.41-.59l7.78-7.78 2.81-2.81c.8-.78.8-2.07 0-2.86zM5.41 20L4 18.59l7.72-7.72 1.47 1.35L5.41 20z\"/>\n",
              "  </svg>\n",
              "      </button>\n",
              "      \n",
              "  <style>\n",
              "    .colab-df-container {\n",
              "      display:flex;\n",
              "      flex-wrap:wrap;\n",
              "      gap: 12px;\n",
              "    }\n",
              "\n",
              "    .colab-df-convert {\n",
              "      background-color: #E8F0FE;\n",
              "      border: none;\n",
              "      border-radius: 50%;\n",
              "      cursor: pointer;\n",
              "      display: none;\n",
              "      fill: #1967D2;\n",
              "      height: 32px;\n",
              "      padding: 0 0 0 0;\n",
              "      width: 32px;\n",
              "    }\n",
              "\n",
              "    .colab-df-convert:hover {\n",
              "      background-color: #E2EBFA;\n",
              "      box-shadow: 0px 1px 2px rgba(60, 64, 67, 0.3), 0px 1px 3px 1px rgba(60, 64, 67, 0.15);\n",
              "      fill: #174EA6;\n",
              "    }\n",
              "\n",
              "    [theme=dark] .colab-df-convert {\n",
              "      background-color: #3B4455;\n",
              "      fill: #D2E3FC;\n",
              "    }\n",
              "\n",
              "    [theme=dark] .colab-df-convert:hover {\n",
              "      background-color: #434B5C;\n",
              "      box-shadow: 0px 1px 3px 1px rgba(0, 0, 0, 0.15);\n",
              "      filter: drop-shadow(0px 1px 2px rgba(0, 0, 0, 0.3));\n",
              "      fill: #FFFFFF;\n",
              "    }\n",
              "  </style>\n",
              "\n",
              "      <script>\n",
              "        const buttonEl =\n",
              "          document.querySelector('#df-d61cf782-16ce-44fa-9b36-63a7643abf24 button.colab-df-convert');\n",
              "        buttonEl.style.display =\n",
              "          google.colab.kernel.accessAllowed ? 'block' : 'none';\n",
              "\n",
              "        async function convertToInteractive(key) {\n",
              "          const element = document.querySelector('#df-d61cf782-16ce-44fa-9b36-63a7643abf24');\n",
              "          const dataTable =\n",
              "            await google.colab.kernel.invokeFunction('convertToInteractive',\n",
              "                                                     [key], {});\n",
              "          if (!dataTable) return;\n",
              "\n",
              "          const docLinkHtml = 'Like what you see? Visit the ' +\n",
              "            '<a target=\"_blank\" href=https://colab.research.google.com/notebooks/data_table.ipynb>data table notebook</a>'\n",
              "            + ' to learn more about interactive tables.';\n",
              "          element.innerHTML = '';\n",
              "          dataTable['output_type'] = 'display_data';\n",
              "          await google.colab.output.renderOutput(dataTable, element);\n",
              "          const docLink = document.createElement('div');\n",
              "          docLink.innerHTML = docLinkHtml;\n",
              "          element.appendChild(docLink);\n",
              "        }\n",
              "      </script>\n",
              "    </div>\n",
              "  </div>\n",
              "  "
            ]
          },
          "metadata": {},
          "execution_count": 8
        }
      ]
    },
    {
      "cell_type": "code",
      "source": [
        "df_submit.to_csv('/content/drive/MyDrive/tarea/submission.csv',index=False) "
      ],
      "metadata": {
        "id": "I04EYRC86UJ_"
      },
      "execution_count": 11,
      "outputs": []
    }
  ]
}